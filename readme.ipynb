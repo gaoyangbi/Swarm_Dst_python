{
 "cells": [
  {
   "cell_type": "markdown",
   "metadata": {},
   "source": [
    "# python环境配置VirES\n",
    "\n",
    "1. 在conda中新建python环境，版本建议3.10\n",
    "   \n",
    "2. 安装viresclient软件包\n",
    "   \n",
    "3. 在https://vires.services/ 中申请tokens 密钥  （Manage access tokens）\n",
    "\n",
    "4. 脚本范例如下：  token=复制你得到的密钥"
   ]
  },
  {
   "cell_type": "code",
   "execution_count": null,
   "metadata": {},
   "outputs": [],
   "source": [
    "from viresclient import SwarmRequest\n",
    "from datetime import datetime as dt\n",
    "\n",
    "\n",
    "# Set up connection with server\n",
    "request = SwarmRequest(\n",
    "    url=\"https://vires.services/ows\",\n",
    "    token=\"gGHijZm0xmMw5QWGqnPz7wwY9NQt8vod\")\n",
    "# Set collection to use\n",
    "# - See https://viresclient.readthedocs.io/en/latest/available_parameters.html\n",
    "request.set_collection(\"SW_OPER_MAGC_LR_1B\")\n",
    "# Set mix of products to fetch:\n",
    "#  measurements (variables from the given collection)\n",
    "#  models (magnetic model predictions at spacecraft sampling points)\n",
    "#  auxiliaries (variables available with any collection)\n",
    "# Optionally set a sampling rate different from the original data\n",
    "request.set_products(\n",
    "    measurements=[ \"B_NEC\"],\n",
    "    models=[\"'CHAOS-internal' = 'CHAOS-Core' + 'CHAOS-Static'\"],\n",
    "    auxiliaries=[\"QDLat\", \"QDLon\",\"Dst\"],\n",
    "    sampling_step=\"PT1S\"\n",
    ")\n",
    "# Fetch data from a given time interval\n",
    "# - Specify times as ISO-8601 strings or Python datetime\n",
    "\n",
    "for year in range(2013,2014):\n",
    "\n",
    "    for month in range(12,13):\n",
    "\n",
    "        if month == 12:\n",
    "            start = str(year) + \"-\" + str(month) + \"-01T00:00\"\n",
    "            end   = str(year+1) + \"-01-01T00:00\"\n",
    "        else:\n",
    "            start = str(year) + \"-\" + str(month).zfill(2) + \"-01T00:00\"\n",
    "            end   = str(year) + \"-\" + str(month+1).zfill(2) + \"-01T00:00\"\n",
    "        print(start)\n",
    "        print(end)\n",
    "        data = request.get_between(\n",
    "            start_time=start,\n",
    "            end_time=end\n",
    "        )\n",
    "        # Load the data as an xarray.Dataset\n",
    "        ds = data.as_xarray()\n",
    "        name = \"Swarm_Bnec_\" + str(year) + str(month).zfill(2) + \".cdf\"\n",
    "        data.to_file(name, overwrite=True)\n"
   ]
  }
 ],
 "metadata": {
  "kernelspec": {
   "display_name": "Swarm_Dst",
   "language": "python",
   "name": "python3"
  },
  "language_info": {
   "codemirror_mode": {
    "name": "ipython",
    "version": 3
   },
   "file_extension": ".py",
   "mimetype": "text/x-python",
   "name": "python",
   "nbconvert_exporter": "python",
   "pygments_lexer": "ipython3",
   "version": "3.10.14"
  }
 },
 "nbformat": 4,
 "nbformat_minor": 2
}
