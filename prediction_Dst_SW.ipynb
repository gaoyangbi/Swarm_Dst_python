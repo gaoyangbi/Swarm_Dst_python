{
 "cells": [
  {
   "cell_type": "markdown",
   "metadata": {},
   "source": [
    "# 基于太阳风参数与等离子体参数的Dst预测实验\n",
    "\n",
    "## 0. conda环境选择\n",
    "\n",
    "pytorch\n",
    "\n",
    "程序基于Swarm_Dst的基础，主要是数据的选择上进行变更，深度学习架构的搭建也基于Swarm_Dst\n"
   ]
  },
  {
   "cell_type": "markdown",
   "metadata": {},
   "source": [
    "## 1. 数据读取操作\n",
    "\n",
    "    对下载到的OMNI数据进行预处理。"
   ]
  },
  {
   "cell_type": "code",
   "execution_count": 1,
   "metadata": {},
   "outputs": [
    {
     "name": "stderr",
     "output_type": "stream",
     "text": [
      "<>:20: SyntaxWarning: invalid escape sequence '\\s'\n",
      "<>:20: SyntaxWarning: invalid escape sequence '\\s'\n",
      "C:\\Users\\WIN10\\AppData\\Local\\Temp\\ipykernel_7560\\2503826434.py:20: SyntaxWarning: invalid escape sequence '\\s'\n",
      "  OMNI_data = pd.read_table(OMNI_path, sep=\"\\s+\", engine='python', header=None)\n"
     ]
    }
   ],
   "source": [
    "globals().clear()\n",
    "import os\n",
    "import numpy as np\n",
    "import myfunction\n",
    "import logging\n",
    "import pandas as pd\n",
    "\n",
    "#----------------------确定筛选参数\n",
    "begin_year   = 2003\n",
    "end_year     = 2023\n",
    "\n",
    "#  建议直接复制下列字符串\n",
    "select_para  = ['year', 'Day', 'Hour', 'Mag_Avg_scalar', 'Mag_Avg_vec', 'Bx_GSE', 'By_GSM', 'Bz_GSM', \n",
    "                'Proton_temperature', 'Proton_density', 'Bulk_speed', 'Flow_Pressure', 'Electric_field', 'DST']     \n",
    "\n",
    "OMNI_path      = \"../OMNI/omni2_all_years.dat\"\n",
    "select_dir     = \"../OMNI_select/\"\n",
    "\n",
    "#----------------------读取OMNI文件并保存到相应数据矩阵中 详情见data_frame.txt\n",
    "OMNI_data = pd.read_table(OMNI_path, sep=\"\\s+\", engine='python', header=None)\n",
    "OMNI_data.columns = ['year',            'Day',           'Hour',               'Rotation_Number',  'ID_IMF_SC',\n",
    "                      'ID_Plasma_SC',   'IMF_Avgs',      'Plasma_Avgs',        'Mag_Avg_scalar',   'Mag_Avg_vec',\n",
    "                      'Lat_Ang_avg',    'Lon_Ang_avg',   'Bx_GSE',             'By_GSE',           'Bz_GSE', \n",
    "                      'By_GSM',         'Bz_GSM',        'sigma-|B|',          'sigma-B',          'sigma-Bx', \n",
    "                      'sigma-By',       'sigma-Bz',      'Proton_temperature', 'Proton_density',   'Bulk_speed', \n",
    "                      'Bulk_flow_lon',  'Bulk_flow_lat', 'Na/Np',              'Flow_Pressure',    'sigma-T',\n",
    "                      'sigma-n',        'sigma-V',       'sigma-phi-V',        'sigma-theta-V',    'sigma-ratio', \n",
    "                      'Electric_field', 'Plasma_beta',   'Alfven_mach_number', 'Kp*10',            'R', \n",
    "                      'DST',            'AE',            'PROT_Flux_1',        'PROT_Flux_2',      'PROT_Flux_4', \n",
    "                      'PROT_Flux_10',   'PROT_Flux_30',  'PROT_Flux_60',       'M_SPH_Flux _Flag', 'ap',\n",
    "                      'f10.7_index',    'PC(N)',         'AL-index',           'AU-index',         'MAC', \n",
    "                      'Daily_Solar_Lyman-alpha', 'Proton_Quasy-Invariant']\n",
    "\n",
    "#-----------------------创建保存输出文件的文件夹\n",
    "if not os.path.exists(select_dir):\n",
    "    os.makedirs(select_dir)\n",
    "\n",
    "#-----------------------数据清洗，去除掉，所选参数为99999的数据\n",
    "OMNI_data_select = OMNI_data[select_para]\n",
    "del OMNI_data\n",
    "\n",
    "OMNI_data_select = OMNI_data_select[OMNI_data_select['year'] >= begin_year]\n",
    "OMNI_data_select = OMNI_data_select[OMNI_data_select['year'] <= end_year]\n",
    "\n",
    "OMNI_data_select.drop(OMNI_data_select[OMNI_data_select['Mag_Avg_scalar'] == 999.9 ].index, axis=0, inplace=True)\n",
    "OMNI_data_select.drop(OMNI_data_select[OMNI_data_select['Mag_Avg_vec'] == 999.9 ].index, axis=0, inplace=True)\n",
    "OMNI_data_select.drop(OMNI_data_select[OMNI_data_select['Bx_GSE'] == 999.9 ].index, axis=0, inplace=True)\n",
    "OMNI_data_select.drop(OMNI_data_select[OMNI_data_select['By_GSM'] == 999.9 ].index, axis=0, inplace=True)\n",
    "OMNI_data_select.drop(OMNI_data_select[OMNI_data_select['Bz_GSM'] == 999.9 ].index, axis=0, inplace=True)\n",
    "OMNI_data_select.drop(OMNI_data_select[OMNI_data_select['Proton_temperature'] == 9999999.0 ].index, axis=0, inplace=True)\n",
    "OMNI_data_select.drop(OMNI_data_select[OMNI_data_select['Proton_density'] == 999.9 ].index, axis=0, inplace=True)\n",
    "OMNI_data_select.drop(OMNI_data_select[OMNI_data_select['Bulk_speed'] == 9999.0 ].index, axis=0, inplace=True)\n",
    "OMNI_data_select.drop(OMNI_data_select[OMNI_data_select['Flow_Pressure'] == 99.99 ].index, axis=0, inplace=True)\n",
    "OMNI_data_select.drop(OMNI_data_select[OMNI_data_select['Electric_field'] == 999.99  ].index, axis=0, inplace=True)\n",
    "OMNI_data_select.drop(OMNI_data_select[OMNI_data_select['DST'] == 99999 ].index, axis=0, inplace=True)\n",
    "#---------------------------------------------------save data\n",
    "# data_mat_finish = OMNI_data_select.to_numpy()\n",
    "# save_file       = select_dir + 'OMNI_data_' + '_finishedtest.npy'\n",
    "# np.save(save_file,data_mat_finish)\n",
    "save_file       = select_dir + 'OMNI_data_finishedtest.csv'\n",
    "OMNI_data_select.to_csv(save_file, index=False)\n"
   ]
  },
  {
   "cell_type": "code",
   "execution_count": 1,
   "metadata": {},
   "outputs": [],
   "source": [
    "globals().clear()\n",
    "import numpy as np\n",
    "a= np.load(\"../OMNI_select/OMNI_data__finishedtest.npy\")"
   ]
  }
 ],
 "metadata": {
  "kernelspec": {
   "display_name": "pytorch",
   "language": "python",
   "name": "python3"
  },
  "language_info": {
   "codemirror_mode": {
    "name": "ipython",
    "version": 3
   },
   "file_extension": ".py",
   "mimetype": "text/x-python",
   "name": "python",
   "nbconvert_exporter": "python",
   "pygments_lexer": "ipython3",
   "version": "3.12.2"
  }
 },
 "nbformat": 4,
 "nbformat_minor": 2
}
